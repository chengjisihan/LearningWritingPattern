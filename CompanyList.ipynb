{
 "cells": [
  {
   "cell_type": "code",
   "execution_count": null,
   "metadata": {
    "collapsed": true
   },
   "outputs": [],
   "source": [
    "# -*- coding: utf-8 -*-\n",
    "import requests\n",
    "import bs4\n",
    "import re"
   ]
  },
  {
   "cell_type": "markdown",
   "metadata": {},
   "source": [
    "## 在词典中添加上市公司名称"
   ]
  },
  {
   "cell_type": "code",
   "execution_count": null,
   "metadata": {},
   "outputs": [],
   "source": [
    "archives_url = \"https://zh.wikipedia.org/zh-hk/%E9%A6%99%E6%B8%AF%E4%B8%8A%E5%B8%82%E5%85%AC%E5%8F%B8%E5%88%97%E8%A1%A8#參見\"\n",
    "print \"开始获取(%s)内容\" % url\n",
    "response = requests.get(url)\n",
    "print \"获取网页内容完毕\"\n",
    "    \n",
    "soup = bs4.BeautifulSoup(response.content.decode(\"utf-8\"))\n",
    "\n",
    "    \n",
    "# 为了防止漏掉调用close方法，这里使用了with语句\n",
    "# 写入到文件中的编码为utf-8\n",
    "with open('dict.txt.big.txt', 'a') as f :\n",
    "    #从网页中提取所有可能是上市公司名称的元素\n",
    "    for archive in soup.findAll('a') :\n",
    "        #print('sdf')\n",
    "        if (archive.get_text().encode('utf-8') != \"\"):\n",
    "            f.write(archive.get_text().encode('utf-8') + \" \" + \"3\" + \" \" + \"n\" + \"\\n\")\n",
    "report = '星島日報'.decode(\"utf-8\")\n",
    "f.write(report.encode(\"utf8\") + \" \" + \"3\" + \" \" + \"n\" + \"\\n\")\n",
    "#f.close\n"
   ]
  },
  {
   "cell_type": "markdown",
   "metadata": {},
   "source": [
    "## （添加）将上市公司名称列表单独保存在一个txt中"
   ]
  },
  {
   "cell_type": "code",
   "execution_count": null,
   "metadata": {},
   "outputs": [],
   "source": [
    "archives_url = \"https://zh.wikipedia.org/zh-hk/%E9%A6%99%E6%B8%AF%E4%B8%8A%E5%B8%82%E5%85%AC%E5%8F%B8%E5%88%97%E8%A1%A8#參見\"\n",
    "print \"开始获取(%s)内容\" % url\n",
    "response = requests.get(url)\n",
    "print \"获取网页内容完毕\"\n",
    "    \n",
    "soup = bs4.BeautifulSoup(response.content.decode(\"utf-8\"))\n",
    "\n",
    "    \n",
    "# 为了防止漏掉调用close方法，这里使用了with语句\n",
    "# 写入到文件中的编码为utf-8\n",
    "with open('companys.txt', 'w') as f :\n",
    "    for archive in soup.findAll('a') :\n",
    "        #print('sdf')\n",
    "        if (archive.get_text().encode('utf-8') != \"\"):\n",
    "            f.write(archive.get_text().encode('utf-8') + \"\\n\")\n",
    "        #print archive.get_text().encode('utf-8')\n",
    "#report = '星島日報'.decode(\"utf-8\")\n",
    "#f.write(report.encode(\"utf8\") + \" \" + \"3\" + \" \" + \"n\" + \"\\n\")\n",
    "#f.close()"
   ]
  },
  {
   "cell_type": "code",
   "execution_count": null,
   "metadata": {
    "collapsed": true
   },
   "outputs": [],
   "source": []
  }
 ],
 "metadata": {
  "kernelspec": {
   "display_name": "Python 2",
   "language": "python",
   "name": "python2"
  },
  "language_info": {
   "codemirror_mode": {
    "name": "ipython",
    "version": 2
   },
   "file_extension": ".py",
   "mimetype": "text/x-python",
   "name": "python",
   "nbconvert_exporter": "python",
   "pygments_lexer": "ipython2",
   "version": "2.7.13"
  }
 },
 "nbformat": 4,
 "nbformat_minor": 2
}
